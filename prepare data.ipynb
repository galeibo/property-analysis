{
 "cells": [
  {
   "cell_type": "markdown",
   "id": "4fbe8772-349c-4c48-8fbb-7fb5593a3304",
   "metadata": {},
   "source": [
    "# **PROJECT**\n",
    "# Part 2"
   ]
  },
  {
   "cell_type": "markdown",
   "id": "17cee560-27df-412c-9d4f-4da6c2dda221",
   "metadata": {},
   "source": [
    "### STUDENTS:\n",
    "\n",
    "\n",
    "#### - Gal Leibovich 208238352\n",
    "#### - Amit Mirzayev 206765869\n",
    "\n",
    "- [Github_Link](https://github.com/galeibo/property-analysis)"
   ]
  },
  {
   "cell_type": "code",
   "execution_count": 1,
   "id": "b45a07e0-363b-487b-959d-4c286c7a0967",
   "metadata": {},
   "outputs": [],
   "source": [
    "import pandas as pd\n",
    "import numpy as np\n",
    "import seaborn as sns\n",
    "import matplotlib.pyplot as plt\n",
    "import joblib\n",
    "import os\n",
    "\n",
    "from sklearn.model_selection import train_test_split\n",
    "from sklearn.preprocessing import StandardScaler\n",
    "from sklearn.linear_model import ElasticNetCV\n",
    "from sklearn.linear_model import ElasticNet\n",
    "from sklearn.model_selection import GridSearchCV\n",
    "from sklearn.metrics import mean_squared_error, mean_absolute_error, r2_score\n",
    "from sklearn.preprocessing import OneHotEncoder\n",
    "from sklearn.ensemble import RandomForestRegressor\n",
    "from sklearn.tree import DecisionTreeRegressor\n",
    "from sklearn.model_selection import GridSearchCV, cross_val_score\n",
    "import matplotlib.pyplot as plt"
   ]
  },
  {
   "cell_type": "code",
   "execution_count": 2,
   "id": "11c8ec65-c078-4134-a3f8-0bdbd2de961a",
   "metadata": {},
   "outputs": [],
   "source": [
    "def prepare_data(df , st , with_price):\n",
    "    import pandas as pd\n",
    "    import numpy as np\n",
    "    import seaborn as sns\n",
    "    import matplotlib.pyplot as plt\n",
    " # Remove rows without price or with unrealistic prices(only if training or if test data includes prices).  \n",
    "    if ((st == 'test' and with_price == True) or (st == 'train')):\n",
    "            df = df.dropna(subset=['price'])\n",
    "            df = df[(df['price'] > 1000) & (df['price'] < 17000)]\n",
    "# Drop rows with missing critical columns ,these columns are essential for predicting rental prices\n",
    "    df = df.dropna(subset=['property_type', 'address', 'floor','neighborhood'])\n",
    "# Remove duplicate entries based on address, room number, neighborhood, and floor. This prevents duplicate data from biasing the model.\n",
    "    df = df[~df.duplicated(subset=['address', 'room_num', 'neighborhood','floor'], keep='first')]\n",
    "# Fill missing values with logical defaults (0, 12, or 0 for specific features)\n",
    "# For example, fill missing 'garden_area' and 'days_to_enter' with 0    \n",
    "    df['garden_area'] = df['garden_area'].fillna(0)\n",
    "    df['days_to_enter'] = df['days_to_enter'].fillna(0)\n",
    "    df['num_of_payments'] = df['num_of_payments'].fillna(12)\n",
    "    df['handicap'] = df['handicap'].fillna(0)\n",
    "    df['num_of_images'] = df['num_of_images'].fillna(0)\n",
    "    df['num_of_payments'] = df['num_of_payments'].replace(0 , 12)\n",
    "    df['days_to_enter'] = df['days_to_enter'].replace(-1 , 0)\n",
    "    df['property_type'] = df['property_type'].replace({\n",
    "        'דופלקס': 'גג/פנטהאוז',\n",
    "        'דו משפחתי': \"פרטי/קוטג'\",\n",
    "        'מרתף/פרטר': 'כללי',\n",
    "        'סטודיו/לופט': 'כללי',\n",
    "        'יחידת דיור': 'כללי'\n",
    "            })\n",
    "    df = df.drop('description', axis=1)\n",
    "# Fill missing 'monthly_arnona' and 'building_tax' with neighborhood averages\n",
    "# If still missing, fill with 0 (e.g., for basement units)\n",
    "    df['monthly_arnona'] = df['monthly_arnona'].fillna(df.groupby('neighborhood')['monthly_arnona'].transform('mean'))\n",
    "    df['monthly_arnona'] = df['monthly_arnona'].fillna(0)\n",
    "    df['building_tax'] = df['building_tax'].fillna(df.groupby('neighborhood')['building_tax'].transform('mean'))\n",
    "    df['building_tax'] = df['building_tax'].fillna(0)\n",
    "# Fix floor and total floors columns using a custom regex function\n",
    "# Corrects formats and extracts numeric values    \n",
    "    import re\n",
    "    def fix_floor(floor, total_floors):\n",
    "        if pd.isna(total_floors):\n",
    "            total_floors = ''\n",
    "        try:\n",
    "            if int(floor) > int(total_floors):\n",
    "                if len(floor) == 2 :\n",
    "                    floors = re.findall(\"([0-9])([0-9])\", floor)\n",
    "                elif len(floor) == 3 :\n",
    "                    floors = re.findall(\"([0-9])([0-9]{2})\", floor)\n",
    "                elif len(floor) == 4 :\n",
    "                    floors = re.findall(\"([0-9]{2})([0-9]{2})\", floor)\n",
    "                return  pd.Series([floors[0][0], floors[0][1]])\n",
    "            else:\n",
    "                return  pd.Series([floor, total_floors])\n",
    "        except: \n",
    "            if \"קרקע\" in floor:\n",
    "                floor = floor.replace('קרקע' , '0')\n",
    "            floors = re.findall(\"[0-9]+\", floor)\n",
    "            if len(floors) >= 2:\n",
    "                return  pd.Series([floors[0], floors[1]])\n",
    "            elif len(floors) == 1:\n",
    "                return  pd.Series([floors[0], np.nan])\n",
    "            else:\n",
    "                return pd.Series([np.nan, np.nan])\n",
    "            \n",
    "    df[['floor', 'total_floors']]  = df.apply(lambda row: fix_floor(row['floor'], row['total_floors']), axis=1)\n",
    "# Remove rows without total_floors after fixing\n",
    "# Missing total_floors can impact predictions, so we remove them.\n",
    "    df = df.dropna(subset=['total_floors'])\n",
    "# Remove outliers in area and room_num columns\n",
    "# Keeps only realistic apartment sizes for Tel Aviv rentals    \n",
    "    df = df[(df['area'] >= 10) & (df['area'] <=200)]\n",
    "    df = df[df['room_num'] > 0]\n",
    "# Handle missing distance_from_center values:\n",
    "# If all values in a neighborhood are missing, drop those rows.\n",
    "# Otherwise, fill missing values with the neighborhood average.\n",
    "# This ensures meaningful and consistent data for modeling.\n",
    "    def handle_distance_from_center(df):\n",
    "        neighborhoods_with_all_nan = df.groupby('neighborhood')['distance_from_center'].transform(lambda x: x.isna().all())\n",
    "        if neighborhoods_with_all_nan.any():\n",
    "            df = df.loc[~neighborhoods_with_all_nan].copy()\n",
    "        df.loc[:, 'distance_from_center'] = df['distance_from_center'].fillna(df.groupby('neighborhood')['distance_from_center'].transform('mean'))\n",
    "        return df \n",
    "    df = handle_distance_from_center(df)\n",
    "# Standardize property type names for consistency\n",
    "    df['floor'] = df['floor'].astype(int)\n",
    "    df['garden_area'] = df['garden_area'].astype(int)\n",
    "    df['days_to_enter'] = df['days_to_enter'].astype(int)\n",
    "    df['num_of_payments'] = df['num_of_payments'].astype(int)\n",
    "    df['monthly_arnona'] = df['monthly_arnona'].astype(int)\n",
    "    df['building_tax'] = df['building_tax'].astype(int)\n",
    "    df['total_floors'] = df['total_floors'].astype(int)\n",
    "    df['num_of_images'] = df['num_of_images'].astype(int)\n",
    "    df['handicap'] = df['handicap'].astype(int)\n",
    "    df['distance_from_center'] = df['distance_from_center'].astype(float)\n",
    "# Merge variations and unify rare categories\n",
    "    df['property_type'] = df['property_type'].replace('דירה להשכרה', 'דירה')\n",
    "    df['property_type'] = df['property_type'].replace('דירת גן להשכרה' , 'דירת גן')\n",
    "    df['property_type'] = df['property_type'].replace('גג/פנטהאוז להשכרה' ,'גג/פנטהאוז')\n",
    "    df['property_type'] = df['property_type'].replace('גג/ פנטהאוז' ,'גג/פנטהאוז')\n",
    "    df['property_type'] = df['property_type'].replace('באתר מופיע ערך שלא ברשימה הסגורה' ,'דירה')\n",
    "    df['property_type'] = df['property_type'].replace('החלפת דירות' ,'דירה')\n",
    "    df['property_type'] = df['property_type'].replace('Квартира' ,'דירה')\n",
    "# Remove non-residential property types (storage units, parking)\n",
    "    df = df[(df['property_type'] != 'מחסן') & (df['property_type'] != 'חניה')]\n",
    "# Convert distance from center to meters if needed\n",
    "# Ensures consistent units for modeling\n",
    "    def convert_to_meters(row):\n",
    "        if \"דיזינגוף\" not in row['address'] and row['distance_from_center'] < 20:\n",
    "            return row['distance_from_center'] * 1000  \n",
    "        else:\n",
    "            return row['distance_from_center']  \n",
    "    df['distance_from_center'] = df.apply(convert_to_meters, axis=1)\n",
    "    \n",
    "# Remove outliers in distance_from_center columns\n",
    "    df = df[df['distance_from_center'] < 25000]\n",
    "    \n",
    "# Feature engineering: add total amenities\n",
    "# Also, create a binary feature for central apartments\n",
    "    df['num_of_amenities'] = df[['has_parking', 'has_storage', 'elevator', 'ac', 'handicap', 'has_bars', 'has_safe_room', 'has_balcony', 'is_furnished', 'is_renovated']].sum(axis=1)\n",
    "    df['is_central'] = (df['distance_from_center'] < 1500).astype(int) \n",
    "    \n",
    "# OneHotEncode property_type column to numeric features\n",
    "# Saves encoder for consistent test data transformation\n",
    "    encoder_path = 'encoder_property_type.pkl'\n",
    "    if st == 'train':\n",
    "        encoder = OneHotEncoder(drop='first', sparse=False, handle_unknown='ignore', dtype=int)\n",
    "        encoded = encoder.fit_transform(df[['property_type']])\n",
    "        joblib.dump(encoder, encoder_path)  # שמירה לקובץ\n",
    "    else:\n",
    "        if os.path.exists(encoder_path):\n",
    "            encoder = joblib.load(encoder_path)  # טעינה מהקובץ\n",
    "            encoded = encoder.transform(df[['property_type']])\n",
    "        else:\n",
    "            raise FileNotFoundError(f\"{encoder_path} not found. Please run in 'train' mode first.\")\n",
    "\n",
    "    encoded_df = pd.DataFrame(encoded, columns=encoder.get_feature_names_out(['property_type']), index=df.index)\n",
    "    df = pd.concat([df.drop(columns=['property_type']), encoded_df], axis=1)\n",
    "    \n",
    "# Create neighborhood_encoded feature using neighborhood average prices\n",
    "# Provides context about each neighborhood's general price level\n",
    "    if (st == 'train'):\n",
    "        neighborhood_map = df.groupby('neighborhood')['price'].mean()\n",
    "        #neighborhood_map.to_csv('neighborhood_map.csv')\n",
    "    else:\n",
    "        neighborhood_map = pd.read_csv('neighborhood_map.csv', index_col=0)['price']   \n",
    "    df['neighborhood_encoded'] = df['neighborhood'].map(neighborhood_map).fillna(0)\n",
    "    \n",
    "# Drop unnecessary or redundant columns\n",
    "# These columns are either combined elsewhere or not useful for the model\n",
    "    drop_col = ['neighborhood', 'address','days_to_enter','has_parking', 'has_storage', 'elevator', 'ac',\n",
    "       'handicap', 'has_bars', 'has_safe_room', 'has_balcony', 'is_furnished','is_renovated',\n",
    "        'num_of_images','num_of_payments','distance_from_center']\n",
    "    df = df.drop(drop_col , axis = 1)\n",
    "# If in training mode, ensure 'price' column is last for clarity  \n",
    "    if (st == 'train'):\n",
    "        df = df[[col for col in df.columns if col != 'price'] + ['price']]\n",
    "    \n",
    "# Normalize continuous features using StandardScaler\n",
    "# Keep binary columns unchanged to avoid distorting binary meaning\n",
    "    scaler_path = 'scaler.pkl'\n",
    "    features = df.drop(\"price\", axis=1)\n",
    "    y = df[\"price\"]\n",
    "    \n",
    "    binary_cols = [col for col in features.columns if set(features[col].unique()) <= {0, 1}]\n",
    "    continuous_cols = [col for col in features.columns if col not in binary_cols]\n",
    "# Save the scaler for consistent test data normalization\n",
    "    if (st == 'train'):\n",
    "        scaler = StandardScaler()\n",
    "        features_scaled = scaler.fit_transform(features[continuous_cols])\n",
    "        joblib.dump(scaler, scaler_path)  # שומר לקובץ\n",
    "    else:\n",
    "        if os.path.exists(scaler_path):\n",
    "            scaler = joblib.load(scaler_path)  # טוען מקובץ\n",
    "            features_scaled = scaler.transform(features[continuous_cols])\n",
    "        else:\n",
    "            raise FileNotFoundError(f\"{scaler_path} not found. Please run in 'train' mode first.\")\n",
    "            \n",
    "    df_scaled = pd.concat([pd.DataFrame(features_scaled, columns=continuous_cols).reset_index(drop=True),features[binary_cols].reset_index(drop=True)], axis=1)\n",
    "    df_scaled[\"price\"] = y.reset_index(drop=True)\n",
    "        \n",
    "    #df_scaled = df_scaled.reset_index(drop=True)\n",
    " # Return the final cleaned and feature-engineered DataFrame   \n",
    "    return df_scaled\n"
   ]
  },
  {
   "cell_type": "markdown",
   "id": "e1a91d4c-b034-4861-8e30-d97b29310bb4",
   "metadata": {},
   "source": [
    "# Elastic net model"
   ]
  },
  {
   "cell_type": "code",
   "execution_count": 3,
   "id": "26fbb923-22b6-40c7-8efa-ea50b51531f6",
   "metadata": {},
   "outputs": [
    {
     "data": {
      "text/html": [
       "<div>\n",
       "<style scoped>\n",
       "    .dataframe tbody tr th:only-of-type {\n",
       "        vertical-align: middle;\n",
       "    }\n",
       "\n",
       "    .dataframe tbody tr th {\n",
       "        vertical-align: top;\n",
       "    }\n",
       "\n",
       "    .dataframe thead th {\n",
       "        text-align: right;\n",
       "    }\n",
       "</style>\n",
       "<table border=\"1\" class=\"dataframe\">\n",
       "  <thead>\n",
       "    <tr style=\"text-align: right;\">\n",
       "      <th></th>\n",
       "      <th>property_type</th>\n",
       "      <th>neighborhood</th>\n",
       "      <th>address</th>\n",
       "      <th>room_num</th>\n",
       "      <th>floor</th>\n",
       "      <th>area</th>\n",
       "      <th>garden_area</th>\n",
       "      <th>days_to_enter</th>\n",
       "      <th>num_of_payments</th>\n",
       "      <th>monthly_arnona</th>\n",
       "      <th>...</th>\n",
       "      <th>ac</th>\n",
       "      <th>handicap</th>\n",
       "      <th>has_bars</th>\n",
       "      <th>has_safe_room</th>\n",
       "      <th>has_balcony</th>\n",
       "      <th>is_furnished</th>\n",
       "      <th>is_renovated</th>\n",
       "      <th>price</th>\n",
       "      <th>num_of_images</th>\n",
       "      <th>distance_from_center</th>\n",
       "    </tr>\n",
       "  </thead>\n",
       "  <tbody>\n",
       "    <tr>\n",
       "      <th>0</th>\n",
       "      <td>דירה</td>\n",
       "      <td>הצפון הישן החלק המרכזי</td>\n",
       "      <td>מהר\"ל 25</td>\n",
       "      <td>3.0</td>\n",
       "      <td>2</td>\n",
       "      <td>71</td>\n",
       "      <td>NaN</td>\n",
       "      <td>0.0</td>\n",
       "      <td>12.0</td>\n",
       "      <td>467.0</td>\n",
       "      <td>...</td>\n",
       "      <td>1</td>\n",
       "      <td>0</td>\n",
       "      <td>0</td>\n",
       "      <td>1</td>\n",
       "      <td>1</td>\n",
       "      <td>0</td>\n",
       "      <td>0</td>\n",
       "      <td>10150.0</td>\n",
       "      <td>6.0</td>\n",
       "      <td>1005.0</td>\n",
       "    </tr>\n",
       "    <tr>\n",
       "      <th>1</th>\n",
       "      <td>דירה</td>\n",
       "      <td>הצפון הישן החלק המרכזי</td>\n",
       "      <td>ארלוזורוב 35</td>\n",
       "      <td>3.0</td>\n",
       "      <td>1</td>\n",
       "      <td>70</td>\n",
       "      <td>NaN</td>\n",
       "      <td>0.0</td>\n",
       "      <td>12.0</td>\n",
       "      <td>240.0</td>\n",
       "      <td>...</td>\n",
       "      <td>1</td>\n",
       "      <td>0</td>\n",
       "      <td>1</td>\n",
       "      <td>0</td>\n",
       "      <td>1</td>\n",
       "      <td>0</td>\n",
       "      <td>0</td>\n",
       "      <td>6600.0</td>\n",
       "      <td>3.0</td>\n",
       "      <td>253.0</td>\n",
       "    </tr>\n",
       "  </tbody>\n",
       "</table>\n",
       "<p>2 rows × 26 columns</p>\n",
       "</div>"
      ],
      "text/plain": [
       "  property_type            neighborhood       address  room_num floor  area  \\\n",
       "0          דירה  הצפון הישן החלק המרכזי      מהר\"ל 25       3.0     2    71   \n",
       "1          דירה  הצפון הישן החלק המרכזי  ארלוזורוב 35       3.0     1    70   \n",
       "\n",
       "   garden_area  days_to_enter  num_of_payments  monthly_arnona  ...  ac  \\\n",
       "0          NaN            0.0             12.0           467.0  ...   1   \n",
       "1          NaN            0.0             12.0           240.0  ...   1   \n",
       "\n",
       "   handicap has_bars  has_safe_room  has_balcony  is_furnished  is_renovated  \\\n",
       "0         0        0              1            1             0             0   \n",
       "1         0        1              0            1             0             0   \n",
       "\n",
       "     price  num_of_images  distance_from_center  \n",
       "0  10150.0            6.0                1005.0  \n",
       "1   6600.0            3.0                 253.0  \n",
       "\n",
       "[2 rows x 26 columns]"
      ]
     },
     "execution_count": 3,
     "metadata": {},
     "output_type": "execute_result"
    }
   ],
   "source": [
    "df = pd.read_csv('train.csv')\n",
    "df.head(2)"
   ]
  },
  {
   "cell_type": "code",
   "execution_count": 4,
   "id": "d7b2bb3f-473a-4b21-b1ad-293c036f5345",
   "metadata": {},
   "outputs": [
    {
     "data": {
      "text/html": [
       "<div>\n",
       "<style scoped>\n",
       "    .dataframe tbody tr th:only-of-type {\n",
       "        vertical-align: middle;\n",
       "    }\n",
       "\n",
       "    .dataframe tbody tr th {\n",
       "        vertical-align: top;\n",
       "    }\n",
       "\n",
       "    .dataframe thead th {\n",
       "        text-align: right;\n",
       "    }\n",
       "</style>\n",
       "<table border=\"1\" class=\"dataframe\">\n",
       "  <thead>\n",
       "    <tr style=\"text-align: right;\">\n",
       "      <th></th>\n",
       "      <th>0</th>\n",
       "      <th>1</th>\n",
       "    </tr>\n",
       "  </thead>\n",
       "  <tbody>\n",
       "    <tr>\n",
       "      <th>room_num</th>\n",
       "      <td>-0.052195</td>\n",
       "      <td>-0.052195</td>\n",
       "    </tr>\n",
       "    <tr>\n",
       "      <th>floor</th>\n",
       "      <td>-0.377871</td>\n",
       "      <td>-0.618187</td>\n",
       "    </tr>\n",
       "    <tr>\n",
       "      <th>area</th>\n",
       "      <td>-0.338688</td>\n",
       "      <td>-0.371996</td>\n",
       "    </tr>\n",
       "    <tr>\n",
       "      <th>garden_area</th>\n",
       "      <td>-0.220305</td>\n",
       "      <td>-0.220305</td>\n",
       "    </tr>\n",
       "    <tr>\n",
       "      <th>monthly_arnona</th>\n",
       "      <td>-0.211942</td>\n",
       "      <td>-0.640100</td>\n",
       "    </tr>\n",
       "    <tr>\n",
       "      <th>building_tax</th>\n",
       "      <td>0.229697</td>\n",
       "      <td>-0.323606</td>\n",
       "    </tr>\n",
       "    <tr>\n",
       "      <th>total_floors</th>\n",
       "      <td>-0.415285</td>\n",
       "      <td>-0.415285</td>\n",
       "    </tr>\n",
       "    <tr>\n",
       "      <th>num_of_amenities</th>\n",
       "      <td>0.704120</td>\n",
       "      <td>-0.608371</td>\n",
       "    </tr>\n",
       "    <tr>\n",
       "      <th>neighborhood_encoded</th>\n",
       "      <td>0.050765</td>\n",
       "      <td>0.050765</td>\n",
       "    </tr>\n",
       "    <tr>\n",
       "      <th>is_central</th>\n",
       "      <td>1.000000</td>\n",
       "      <td>1.000000</td>\n",
       "    </tr>\n",
       "    <tr>\n",
       "      <th>property_type_דירה</th>\n",
       "      <td>1.000000</td>\n",
       "      <td>1.000000</td>\n",
       "    </tr>\n",
       "    <tr>\n",
       "      <th>property_type_דירת גן</th>\n",
       "      <td>0.000000</td>\n",
       "      <td>0.000000</td>\n",
       "    </tr>\n",
       "    <tr>\n",
       "      <th>property_type_כללי</th>\n",
       "      <td>0.000000</td>\n",
       "      <td>0.000000</td>\n",
       "    </tr>\n",
       "    <tr>\n",
       "      <th>property_type_פרטי/קוטג'</th>\n",
       "      <td>0.000000</td>\n",
       "      <td>0.000000</td>\n",
       "    </tr>\n",
       "    <tr>\n",
       "      <th>price</th>\n",
       "      <td>10150.000000</td>\n",
       "      <td>6600.000000</td>\n",
       "    </tr>\n",
       "  </tbody>\n",
       "</table>\n",
       "</div>"
      ],
      "text/plain": [
       "                                     0            1\n",
       "room_num                     -0.052195    -0.052195\n",
       "floor                        -0.377871    -0.618187\n",
       "area                         -0.338688    -0.371996\n",
       "garden_area                  -0.220305    -0.220305\n",
       "monthly_arnona               -0.211942    -0.640100\n",
       "building_tax                  0.229697    -0.323606\n",
       "total_floors                 -0.415285    -0.415285\n",
       "num_of_amenities              0.704120    -0.608371\n",
       "neighborhood_encoded          0.050765     0.050765\n",
       "is_central                    1.000000     1.000000\n",
       "property_type_דירה            1.000000     1.000000\n",
       "property_type_דירת גן         0.000000     0.000000\n",
       "property_type_כללי            0.000000     0.000000\n",
       "property_type_פרטי/קוטג'      0.000000     0.000000\n",
       "price                     10150.000000  6600.000000"
      ]
     },
     "execution_count": 4,
     "metadata": {},
     "output_type": "execute_result"
    }
   ],
   "source": [
    "clean_df = prepare_data(df , 'train', False)\n",
    "clean_df.head(2).T"
   ]
  },
  {
   "cell_type": "markdown",
   "id": "86af1da1-0765-4bb5-bc20-f5c1b5a95e45",
   "metadata": {},
   "source": [
    "### Step 1: Separate the target and features\n",
    "Separate the target variable (`price`) and the explanatory variables (`X`)."
   ]
  },
  {
   "cell_type": "code",
   "execution_count": 5,
   "id": "5747adc0-05b3-45a4-856a-a3b0af41b872",
   "metadata": {},
   "outputs": [],
   "source": [
    "X = clean_df.drop(\"price\", axis=1)\n",
    "y = clean_df[\"price\"]"
   ]
  },
  {
   "cell_type": "markdown",
   "id": "ceb7eb77-5166-4290-a66a-98c05b3a6e6e",
   "metadata": {},
   "source": [
    "### Step 2: Check for multicollinearity using VIF\n",
    "Calculate the Variance Inflation Factor (VIF) for each feature to identify potential multicollinearity.  \n",
    "A VIF value above 10 suggests a strong correlation between features, which can be problematic for linear models."
   ]
  },
  {
   "cell_type": "code",
   "execution_count": 6,
   "id": "012e2d9a-b018-4598-8cf6-adcf4845f9de",
   "metadata": {},
   "outputs": [
    {
     "name": "stdout",
     "output_type": "stream",
     "text": [
      "                     feature       VIF\n",
      "2                       area  4.076781\n",
      "0                   room_num  3.819948\n",
      "6               total_floors  2.118939\n",
      "8       neighborhood_encoded  1.786858\n",
      "7           num_of_amenities  1.625040\n",
      "1                      floor  1.549535\n",
      "5               building_tax  1.533514\n",
      "9                 is_central  1.389602\n",
      "4             monthly_arnona  1.339424\n",
      "3                garden_area  1.332876\n",
      "10        property_type_דירה  1.306450\n",
      "11     property_type_דירת גן  1.178084\n",
      "13  property_type_פרטי/קוטג'  1.148403\n",
      "12        property_type_כללי  1.099696\n"
     ]
    }
   ],
   "source": [
    "from statsmodels.stats.outliers_influence import variance_inflation_factor\n",
    "\n",
    "def calculate_vif(X):\n",
    "    vif_data = pd.DataFrame()\n",
    "    vif_data[\"feature\"] = X.columns\n",
    "    vif_data[\"VIF\"] = [variance_inflation_factor(X.values, i) for i in range(X.shape[1])]\n",
    "    return vif_data.sort_values(by=\"VIF\", ascending=False)\n",
    "\n",
    "# Calculate VIF for all features\n",
    "vif_results = calculate_vif(X)\n",
    "print(vif_results)"
   ]
  },
  {
   "cell_type": "markdown",
   "id": "8afc7c15-bd6d-4db8-affc-5c4db4702b65",
   "metadata": {},
   "source": [
    "### Step 3: Train-test split\n",
    "Split the dataset into training and testing sets to evaluate model performance."
   ]
  },
  {
   "cell_type": "code",
   "execution_count": 7,
   "id": "69adad5c-70df-4c8a-b6d1-8730cfd0fd6b",
   "metadata": {},
   "outputs": [],
   "source": [
    "X_train, X_test, y_train, y_test = train_test_split(X, y, test_size=0.2, random_state=42)"
   ]
  },
  {
   "cell_type": "markdown",
   "id": "14b8efaf-3bdb-475f-a6e1-83e9d555caab",
   "metadata": {},
   "source": [
    "### Step 4: Hyperparameter tuning with GridSearchCV\n",
    "We use GridSearchCV to find the best combination of hyperparameters (`alpha` and `l1_ratio`) for the ElasticNet model.  \n",
    "The search uses 10-fold cross-validation to evaluate model performance with each parameter combination."
   ]
  },
  {
   "cell_type": "code",
   "execution_count": 8,
   "id": "5fec3870-697b-44dd-9cf2-99aa61985129",
   "metadata": {},
   "outputs": [
    {
     "name": "stdout",
     "output_type": "stream",
     "text": [
      "Best parameters: {'alpha': 10, 'l1_ratio': 1}\n"
     ]
    }
   ],
   "source": [
    "param_grid = {\n",
    "    'alpha': [0.01, 0.1, 1, 10],\n",
    "    'l1_ratio': [0.1, 0.5, 0.7, 0.9, 1]\n",
    "}\n",
    "model = ElasticNet()\n",
    "grid_search = GridSearchCV(model, param_grid, cv=10, scoring='neg_root_mean_squared_error', n_jobs=-1)\n",
    "grid_search.fit(X_train, y_train)\n",
    "print(\"Best parameters:\", grid_search.best_params_)"
   ]
  },
  {
   "cell_type": "code",
   "execution_count": 9,
   "id": "7603ec3d-1223-45dd-b0ee-f94878406e6b",
   "metadata": {},
   "outputs": [
    {
     "name": "stdout",
     "output_type": "stream",
     "text": [
      "number of iterations: 26\n"
     ]
    }
   ],
   "source": [
    "best_model = grid_search.best_estimator_\n",
    "print(\"number of iterations:\", best_model.n_iter_)"
   ]
  },
  {
   "cell_type": "markdown",
   "id": "500eff9e-30a3-44bb-ba73-12a304130367",
   "metadata": {},
   "source": [
    "Since the optimal number of iterations for this model is 26, we did not increase the model's default `max_iter` value."
   ]
  },
  {
   "cell_type": "code",
   "execution_count": 10,
   "id": "a22f7f7e-e092-4df2-b080-68c5479b22f2",
   "metadata": {},
   "outputs": [
    {
     "name": "stdout",
     "output_type": "stream",
     "text": [
      "10-Fold CV R^2 Scores: [0.656762   0.51189203 0.62763062 0.59780057 0.68718129 0.60659145\n",
      " 0.6684672  0.66796299 0.53365615 0.72202845]\n",
      "Mean R^2: 0.6279972760172423\n",
      "Standard Deviation of R^2: 0.06337030302753524\n"
     ]
    }
   ],
   "source": [
    "r2_scores = cross_val_score(best_model, X_train, y_train, cv=10, scoring='r2')\n",
    "\n",
    "print(\"10-Fold CV R^2 Scores:\", r2_scores)\n",
    "print(\"Mean R^2:\", np.mean(r2_scores))\n",
    "print(\"Standard Deviation of R^2:\", np.std(r2_scores))"
   ]
  },
  {
   "cell_type": "markdown",
   "id": "948117d9-74aa-4445-920d-29b9a74ee0ef",
   "metadata": {},
   "source": [
    "\n",
    "- These are the R² scores obtained in each of the 10 cross-validation folds.\n",
    "- R² indicates the proportion of variance in the target (rental price) explained by the model.\n",
    "\n",
    "**🔹 Mean R²:**  \n",
    "`0.6279`  \n",
    "→ On average, the model explains ~59.7% of the variance in rental prices.\n",
    "\n",
    "**🔹 Standard Deviation:**  \n",
    "`0.0633`  \n",
    "→ Indicates relatively stable performance across folds (low variance).\n",
    "\n",
    "**Interpretation:**  \n",
    "The model shows consistent predictive power with moderate variance across different subsets of the data, suggesting reasonable generalization.\n"
   ]
  },
  {
   "cell_type": "markdown",
   "id": "98b81a1c-d152-4c00-b186-dac720fd123a",
   "metadata": {},
   "source": [
    "### Step 5: Make predictions on the test set\n",
    "Use the trained model to predict rental prices for the test set."
   ]
  },
  {
   "cell_type": "code",
   "execution_count": 11,
   "id": "9041adcc-1f1a-4bea-8803-f8774ac8bd2e",
   "metadata": {},
   "outputs": [],
   "source": [
    "y_pred = best_model.predict(X_test)"
   ]
  },
  {
   "cell_type": "markdown",
   "id": "f4398eed-7675-4de7-a96d-bc90c3e156fc",
   "metadata": {},
   "source": [
    "### Step 6: Evaluate model performance\n",
    "Calculate the RMSE and R² scores to evaluate how well the model predicts rental prices."
   ]
  },
  {
   "cell_type": "code",
   "execution_count": 12,
   "id": "26d4dd60-d365-47a6-8b3d-1914fa489346",
   "metadata": {},
   "outputs": [
    {
     "name": "stdout",
     "output_type": "stream",
     "text": [
      "📊 ביצועי המודל:\n",
      "RMSE: 1883.65\n",
      "R²:   0.581\n"
     ]
    }
   ],
   "source": [
    "rmse = np.sqrt(np.mean((y_test - y_pred)**2))\n",
    "r2 = r2_score(y_test, y_pred)\n",
    "\n",
    "print(\"📊 ביצועי המודל:\")\n",
    "print(f\"RMSE: {rmse:.2f}\")\n",
    "print(f\"R²:   {r2:.3f}\")"
   ]
  },
  {
   "cell_type": "markdown",
   "id": "f6ee7cc6-7f78-4ff0-a2cd-65dcd665d28b",
   "metadata": {},
   "source": [
    "### Step 7: Identify the top 5 most important features\n",
    "Retrieve the top 5 features with the highest absolute coefficients from the ElasticNet model.  \n",
    "These are the features that have the biggest influence on rental price predictions."
   ]
  },
  {
   "cell_type": "code",
   "execution_count": 13,
   "id": "86e73e9a-bb97-436f-9816-03454da831e1",
   "metadata": {},
   "outputs": [
    {
     "name": "stdout",
     "output_type": "stream",
     "text": [
      "Top 5 most important features:\n",
      "neighborhood_encoded    1024.665484\n",
      "area                    1014.807531\n",
      "is_central               701.451152\n",
      "property_type_כללי      -657.665364\n",
      "property_type_דירה      -851.600350\n",
      "dtype: float64\n"
     ]
    }
   ],
   "source": [
    "coef = pd.Series(best_model.coef_, index=X.columns)\n",
    "top_elastic = coef.abs().sort_values(ascending=False).head(5)\n",
    "print(\"Top 5 most important features:\")\n",
    "print(coef[top_elastic.index].sort_values(ascending=False))"
   ]
  },
  {
   "cell_type": "markdown",
   "id": "4dc90eb9-6e96-4e59-b62a-fc9f8d290069",
   "metadata": {},
   "source": [
    "# Decision tree model"
   ]
  },
  {
   "cell_type": "code",
   "execution_count": 14,
   "id": "eacf3c77-e18f-4ed5-9fb4-788183858894",
   "metadata": {},
   "outputs": [
    {
     "data": {
      "text/html": [
       "<div>\n",
       "<style scoped>\n",
       "    .dataframe tbody tr th:only-of-type {\n",
       "        vertical-align: middle;\n",
       "    }\n",
       "\n",
       "    .dataframe tbody tr th {\n",
       "        vertical-align: top;\n",
       "    }\n",
       "\n",
       "    .dataframe thead th {\n",
       "        text-align: right;\n",
       "    }\n",
       "</style>\n",
       "<table border=\"1\" class=\"dataframe\">\n",
       "  <thead>\n",
       "    <tr style=\"text-align: right;\">\n",
       "      <th></th>\n",
       "      <th>room_num</th>\n",
       "      <th>floor</th>\n",
       "      <th>area</th>\n",
       "      <th>garden_area</th>\n",
       "      <th>monthly_arnona</th>\n",
       "      <th>building_tax</th>\n",
       "      <th>total_floors</th>\n",
       "      <th>num_of_amenities</th>\n",
       "      <th>neighborhood_encoded</th>\n",
       "      <th>is_central</th>\n",
       "      <th>property_type_דירה</th>\n",
       "      <th>property_type_דירת גן</th>\n",
       "      <th>property_type_כללי</th>\n",
       "      <th>property_type_פרטי/קוטג'</th>\n",
       "      <th>price</th>\n",
       "    </tr>\n",
       "  </thead>\n",
       "  <tbody>\n",
       "    <tr>\n",
       "      <th>0</th>\n",
       "      <td>-0.052195</td>\n",
       "      <td>-0.377871</td>\n",
       "      <td>-0.338688</td>\n",
       "      <td>-0.220305</td>\n",
       "      <td>-0.211942</td>\n",
       "      <td>0.229697</td>\n",
       "      <td>-0.415285</td>\n",
       "      <td>0.704120</td>\n",
       "      <td>0.050765</td>\n",
       "      <td>1</td>\n",
       "      <td>1</td>\n",
       "      <td>0</td>\n",
       "      <td>0</td>\n",
       "      <td>0</td>\n",
       "      <td>10150.0</td>\n",
       "    </tr>\n",
       "    <tr>\n",
       "      <th>1</th>\n",
       "      <td>-0.052195</td>\n",
       "      <td>-0.618187</td>\n",
       "      <td>-0.371996</td>\n",
       "      <td>-0.220305</td>\n",
       "      <td>-0.640100</td>\n",
       "      <td>-0.323606</td>\n",
       "      <td>-0.415285</td>\n",
       "      <td>-0.608371</td>\n",
       "      <td>0.050765</td>\n",
       "      <td>1</td>\n",
       "      <td>1</td>\n",
       "      <td>0</td>\n",
       "      <td>0</td>\n",
       "      <td>0</td>\n",
       "      <td>6600.0</td>\n",
       "    </tr>\n",
       "    <tr>\n",
       "      <th>2</th>\n",
       "      <td>-0.536633</td>\n",
       "      <td>-0.618187</td>\n",
       "      <td>-0.538536</td>\n",
       "      <td>-0.220305</td>\n",
       "      <td>-0.338315</td>\n",
       "      <td>-0.375805</td>\n",
       "      <td>-0.415285</td>\n",
       "      <td>0.704120</td>\n",
       "      <td>0.050765</td>\n",
       "      <td>1</td>\n",
       "      <td>1</td>\n",
       "      <td>0</td>\n",
       "      <td>0</td>\n",
       "      <td>0</td>\n",
       "      <td>9000.0</td>\n",
       "    </tr>\n",
       "    <tr>\n",
       "      <th>3</th>\n",
       "      <td>-1.021071</td>\n",
       "      <td>-0.137555</td>\n",
       "      <td>-1.371236</td>\n",
       "      <td>-0.220305</td>\n",
       "      <td>-0.904162</td>\n",
       "      <td>-0.441053</td>\n",
       "      <td>-0.531533</td>\n",
       "      <td>-1.920863</td>\n",
       "      <td>0.050765</td>\n",
       "      <td>1</td>\n",
       "      <td>1</td>\n",
       "      <td>0</td>\n",
       "      <td>0</td>\n",
       "      <td>0</td>\n",
       "      <td>5800.0</td>\n",
       "    </tr>\n",
       "    <tr>\n",
       "      <th>4</th>\n",
       "      <td>-0.052195</td>\n",
       "      <td>-0.618187</td>\n",
       "      <td>-0.371996</td>\n",
       "      <td>-0.220305</td>\n",
       "      <td>-0.621238</td>\n",
       "      <td>-0.506301</td>\n",
       "      <td>-0.415285</td>\n",
       "      <td>-0.608371</td>\n",
       "      <td>0.050765</td>\n",
       "      <td>1</td>\n",
       "      <td>1</td>\n",
       "      <td>0</td>\n",
       "      <td>0</td>\n",
       "      <td>0</td>\n",
       "      <td>7700.0</td>\n",
       "    </tr>\n",
       "    <tr>\n",
       "      <th>...</th>\n",
       "      <td>...</td>\n",
       "      <td>...</td>\n",
       "      <td>...</td>\n",
       "      <td>...</td>\n",
       "      <td>...</td>\n",
       "      <td>...</td>\n",
       "      <td>...</td>\n",
       "      <td>...</td>\n",
       "      <td>...</td>\n",
       "      <td>...</td>\n",
       "      <td>...</td>\n",
       "      <td>...</td>\n",
       "      <td>...</td>\n",
       "      <td>...</td>\n",
       "      <td>...</td>\n",
       "    </tr>\n",
       "    <tr>\n",
       "      <th>589</th>\n",
       "      <td>-0.536633</td>\n",
       "      <td>0.343078</td>\n",
       "      <td>-0.871616</td>\n",
       "      <td>-0.220305</td>\n",
       "      <td>-0.149699</td>\n",
       "      <td>-0.180061</td>\n",
       "      <td>-0.299036</td>\n",
       "      <td>0.704120</td>\n",
       "      <td>-1.112733</td>\n",
       "      <td>0</td>\n",
       "      <td>0</td>\n",
       "      <td>0</td>\n",
       "      <td>0</td>\n",
       "      <td>0</td>\n",
       "      <td>6300.0</td>\n",
       "    </tr>\n",
       "    <tr>\n",
       "      <th>590</th>\n",
       "      <td>-0.052195</td>\n",
       "      <td>-0.377871</td>\n",
       "      <td>0.294165</td>\n",
       "      <td>-0.220305</td>\n",
       "      <td>-0.149699</td>\n",
       "      <td>-0.245309</td>\n",
       "      <td>-0.415285</td>\n",
       "      <td>-0.170874</td>\n",
       "      <td>0.350054</td>\n",
       "      <td>1</td>\n",
       "      <td>1</td>\n",
       "      <td>0</td>\n",
       "      <td>0</td>\n",
       "      <td>0</td>\n",
       "      <td>15000.0</td>\n",
       "    </tr>\n",
       "    <tr>\n",
       "      <th>591</th>\n",
       "      <td>-1.021071</td>\n",
       "      <td>-0.137555</td>\n",
       "      <td>-0.038915</td>\n",
       "      <td>-0.220305</td>\n",
       "      <td>-0.244007</td>\n",
       "      <td>-0.467152</td>\n",
       "      <td>-0.299036</td>\n",
       "      <td>-0.608371</td>\n",
       "      <td>0.350054</td>\n",
       "      <td>0</td>\n",
       "      <td>1</td>\n",
       "      <td>0</td>\n",
       "      <td>0</td>\n",
       "      <td>0</td>\n",
       "      <td>8000.0</td>\n",
       "    </tr>\n",
       "    <tr>\n",
       "      <th>592</th>\n",
       "      <td>-1.989947</td>\n",
       "      <td>-0.137555</td>\n",
       "      <td>-1.704316</td>\n",
       "      <td>-0.220305</td>\n",
       "      <td>-0.753269</td>\n",
       "      <td>-0.506301</td>\n",
       "      <td>-0.531533</td>\n",
       "      <td>-0.608371</td>\n",
       "      <td>-1.112733</td>\n",
       "      <td>0</td>\n",
       "      <td>0</td>\n",
       "      <td>0</td>\n",
       "      <td>1</td>\n",
       "      <td>0</td>\n",
       "      <td>4000.0</td>\n",
       "    </tr>\n",
       "    <tr>\n",
       "      <th>593</th>\n",
       "      <td>-1.021071</td>\n",
       "      <td>-0.858503</td>\n",
       "      <td>-0.871616</td>\n",
       "      <td>-0.220305</td>\n",
       "      <td>-0.230804</td>\n",
       "      <td>-0.571549</td>\n",
       "      <td>-0.880279</td>\n",
       "      <td>0.266623</td>\n",
       "      <td>0.350054</td>\n",
       "      <td>1</td>\n",
       "      <td>1</td>\n",
       "      <td>0</td>\n",
       "      <td>0</td>\n",
       "      <td>0</td>\n",
       "      <td>7200.0</td>\n",
       "    </tr>\n",
       "  </tbody>\n",
       "</table>\n",
       "<p>594 rows × 15 columns</p>\n",
       "</div>"
      ],
      "text/plain": [
       "     room_num     floor      area  garden_area  monthly_arnona  building_tax  \\\n",
       "0   -0.052195 -0.377871 -0.338688    -0.220305       -0.211942      0.229697   \n",
       "1   -0.052195 -0.618187 -0.371996    -0.220305       -0.640100     -0.323606   \n",
       "2   -0.536633 -0.618187 -0.538536    -0.220305       -0.338315     -0.375805   \n",
       "3   -1.021071 -0.137555 -1.371236    -0.220305       -0.904162     -0.441053   \n",
       "4   -0.052195 -0.618187 -0.371996    -0.220305       -0.621238     -0.506301   \n",
       "..        ...       ...       ...          ...             ...           ...   \n",
       "589 -0.536633  0.343078 -0.871616    -0.220305       -0.149699     -0.180061   \n",
       "590 -0.052195 -0.377871  0.294165    -0.220305       -0.149699     -0.245309   \n",
       "591 -1.021071 -0.137555 -0.038915    -0.220305       -0.244007     -0.467152   \n",
       "592 -1.989947 -0.137555 -1.704316    -0.220305       -0.753269     -0.506301   \n",
       "593 -1.021071 -0.858503 -0.871616    -0.220305       -0.230804     -0.571549   \n",
       "\n",
       "     total_floors  num_of_amenities  neighborhood_encoded  is_central  \\\n",
       "0       -0.415285          0.704120              0.050765           1   \n",
       "1       -0.415285         -0.608371              0.050765           1   \n",
       "2       -0.415285          0.704120              0.050765           1   \n",
       "3       -0.531533         -1.920863              0.050765           1   \n",
       "4       -0.415285         -0.608371              0.050765           1   \n",
       "..            ...               ...                   ...         ...   \n",
       "589     -0.299036          0.704120             -1.112733           0   \n",
       "590     -0.415285         -0.170874              0.350054           1   \n",
       "591     -0.299036         -0.608371              0.350054           0   \n",
       "592     -0.531533         -0.608371             -1.112733           0   \n",
       "593     -0.880279          0.266623              0.350054           1   \n",
       "\n",
       "     property_type_דירה  property_type_דירת גן  property_type_כללי  \\\n",
       "0                     1                      0                   0   \n",
       "1                     1                      0                   0   \n",
       "2                     1                      0                   0   \n",
       "3                     1                      0                   0   \n",
       "4                     1                      0                   0   \n",
       "..                  ...                    ...                 ...   \n",
       "589                   0                      0                   0   \n",
       "590                   1                      0                   0   \n",
       "591                   1                      0                   0   \n",
       "592                   0                      0                   1   \n",
       "593                   1                      0                   0   \n",
       "\n",
       "     property_type_פרטי/קוטג'    price  \n",
       "0                           0  10150.0  \n",
       "1                           0   6600.0  \n",
       "2                           0   9000.0  \n",
       "3                           0   5800.0  \n",
       "4                           0   7700.0  \n",
       "..                        ...      ...  \n",
       "589                         0   6300.0  \n",
       "590                         0  15000.0  \n",
       "591                         0   8000.0  \n",
       "592                         0   4000.0  \n",
       "593                         0   7200.0  \n",
       "\n",
       "[594 rows x 15 columns]"
      ]
     },
     "execution_count": 14,
     "metadata": {},
     "output_type": "execute_result"
    }
   ],
   "source": [
    "df = pd.read_csv('train.csv')\n",
    "\n",
    "df_clean = prepare_data(df , 'train', False)\n",
    "df_clean"
   ]
  },
  {
   "cell_type": "markdown",
   "id": "9b1d96a6-8ad1-4f06-9b64-63b345707ca1",
   "metadata": {},
   "source": [
    "### Step 1: Separate the target and features\n",
    "Separate the target variable (`price`) and the explanatory variables (`X`)."
   ]
  },
  {
   "cell_type": "code",
   "execution_count": 15,
   "id": "2185a513-35c4-4368-95d5-b050ea487e02",
   "metadata": {},
   "outputs": [],
   "source": [
    "X = df_clean.drop(\"price\", axis=1)\n",
    "y = df_clean[\"price\"]"
   ]
  },
  {
   "cell_type": "markdown",
   "id": "e2088a3c-0660-4307-a3f3-14501839ba0b",
   "metadata": {},
   "source": [
    "### Step 2: Check for multicollinearity using VIF\n",
    "Calculate the Variance Inflation Factor (VIF) for each feature to identify potential multicollinearity.  \n",
    "A VIF value above 10 suggests a strong correlation between features, which can be problematic for linear models."
   ]
  },
  {
   "cell_type": "code",
   "execution_count": 16,
   "id": "352cb666-4394-4595-9275-b9f1ea70bd51",
   "metadata": {},
   "outputs": [
    {
     "name": "stdout",
     "output_type": "stream",
     "text": [
      "                     feature       VIF\n",
      "2                       area  4.076781\n",
      "0                   room_num  3.819948\n",
      "6               total_floors  2.118939\n",
      "8       neighborhood_encoded  1.786858\n",
      "7           num_of_amenities  1.625040\n",
      "1                      floor  1.549535\n",
      "5               building_tax  1.533514\n",
      "9                 is_central  1.389602\n",
      "4             monthly_arnona  1.339424\n",
      "3                garden_area  1.332876\n",
      "10        property_type_דירה  1.306450\n",
      "11     property_type_דירת גן  1.178084\n",
      "13  property_type_פרטי/קוטג'  1.148403\n",
      "12        property_type_כללי  1.099696\n"
     ]
    }
   ],
   "source": [
    "from statsmodels.stats.outliers_influence import variance_inflation_factor\n",
    "\n",
    "def calculate_vif(X):\n",
    "    vif_data = pd.DataFrame()\n",
    "    vif_data[\"feature\"] = X.columns\n",
    "    vif_data[\"VIF\"] = [variance_inflation_factor(X.values, i) for i in range(X.shape[1])]\n",
    "    return vif_data.sort_values(by=\"VIF\", ascending=False)\n",
    "\n",
    "# Calculate VIF for all features\n",
    "vif_results = calculate_vif(X)\n",
    "print(vif_results)"
   ]
  },
  {
   "cell_type": "markdown",
   "id": "ec932c74-4ffb-4e22-883e-898b5c7df5ce",
   "metadata": {},
   "source": [
    "### Step 3: Train-test split\n",
    "Split the dataset into training and testing sets to evaluate model performance."
   ]
  },
  {
   "cell_type": "code",
   "execution_count": 17,
   "id": "f5427c9e-2e00-4892-8629-762f9cba2951",
   "metadata": {},
   "outputs": [],
   "source": [
    "X_train, X_test, y_train, y_test = train_test_split(X, y, test_size=0.2, random_state=42)"
   ]
  },
  {
   "cell_type": "markdown",
   "id": "599b8988-2c92-4b73-aea9-bd14b50c6523",
   "metadata": {},
   "source": [
    "### Step 4: Hyperparameter tuning with GridSearchCV\n",
    "We chose to use `GridSearchCV` for hyperparameter optimization of the `RandomForestRegressor` model because the number of key parameters we wanted to tune was relatively small and well-defined. Our parameter grid included `n_estimators`, `max_depth`, `min_samples_split`, and `min_samples_leaf` — each with a limited set of reasonable values. This made exhaustive grid search computationally feasible even with 10-fold cross-validation.\n",
    "\n",
    "Grid Search allowed us to systematically explore all relevant combinations of these parameters and ensured that we did not miss potentially optimal configurations — a limitation sometimes encountered in `RandomizedSearchCV`, especially when the search space is not large.\n",
    "\n",
    "The optimization was performed using `GridSearchCV` with `cv=10` and `scoring='neg_root_mean_squared_error'` to provide a robust and reliable estimate of the model's performance. This helped us identify a balanced model that avoids overfitting while maintaining predictive accuracy.\n"
   ]
  },
  {
   "cell_type": "code",
   "execution_count": 18,
   "id": "ce184fe9-9e2a-49b7-ad0a-6d77725260ce",
   "metadata": {},
   "outputs": [
    {
     "name": "stdout",
     "output_type": "stream",
     "text": [
      "Fitting 10 folds for each of 135 candidates, totalling 1350 fits\n"
     ]
    },
    {
     "data": {
      "text/plain": [
       "GridSearchCV(cv=10, estimator=RandomForestRegressor(random_state=42), n_jobs=-1,\n",
       "             param_grid={'max_depth': [10, 15, 20, 25, 30],\n",
       "                         'min_samples_leaf': [1, 2, 4],\n",
       "                         'min_samples_split': [2, 5, 10],\n",
       "                         'n_estimators': [50, 100, 200]},\n",
       "             scoring='neg_root_mean_squared_error', verbose=2)"
      ]
     },
     "execution_count": 18,
     "metadata": {},
     "output_type": "execute_result"
    }
   ],
   "source": [
    "rf_model = RandomForestRegressor(n_estimators=100, random_state=42)\n",
    "param_grid = {\n",
    "    'n_estimators': [50, 100, 200],\n",
    "    'max_depth': [10, 15, 20, 25, 30],\n",
    "    'min_samples_split': [2, 5, 10],\n",
    "    'min_samples_leaf': [1, 2, 4]\n",
    "}\n",
    "\n",
    "grid_search = GridSearchCV(\n",
    "    estimator=rf_model,\n",
    "    param_grid=param_grid,\n",
    "    cv=10,\n",
    "    scoring='neg_root_mean_squared_error',\n",
    "    n_jobs=-1,  \n",
    "    verbose=2\n",
    ")\n",
    "grid_search.fit(X_train, y_train)"
   ]
  },
  {
   "cell_type": "markdown",
   "id": "364b9ae2-0da9-442c-86c8-6d17e0608c3b",
   "metadata": {},
   "source": [
    "##### Retrieve the Best-Performing Random Forest Model and Its Optimal Hyperparameters\n",
    "\n",
    "The best `RandomForestRegressor` model was retrieved from the `GridSearchCV` results,  \n",
    "along with its optimal hyperparameters as determined by 10-fold cross-validation."
   ]
  },
  {
   "cell_type": "code",
   "execution_count": 19,
   "id": "7b2b4f8e-415a-401c-9fbd-9c52b696896f",
   "metadata": {},
   "outputs": [
    {
     "name": "stdout",
     "output_type": "stream",
     "text": [
      "Best Parameters: {'max_depth': 20, 'min_samples_leaf': 2, 'min_samples_split': 10, 'n_estimators': 50}\n"
     ]
    }
   ],
   "source": [
    "print(\"Best Parameters:\", grid_search.best_params_)"
   ]
  },
  {
   "cell_type": "markdown",
   "id": "739f5049-e3bb-4faf-8316-17f5ae6d1496",
   "metadata": {},
   "source": [
    "### Step 5: Evaluate the Random Forest with Cross-Validation\n",
    "\n",
    "We evaluated the best `RandomForestRegressor` model using 10-fold cross-validation.  \n",
    "The R² scores from each fold were calculated, and the average R² was computed as an indicator of overall model performance."
   ]
  },
  {
   "cell_type": "code",
   "execution_count": 20,
   "id": "9cc6b701-bb6c-4efd-a029-7c6e3ab7ca05",
   "metadata": {},
   "outputs": [
    {
     "name": "stdout",
     "output_type": "stream",
     "text": [
      "10-Fold CV R^2 Scores: [0.65204549 0.49230608 0.62980712 0.62835907 0.75629325 0.64521955\n",
      " 0.80717398 0.66328461 0.50921721 0.69271904]\n",
      "Mean R^2: 0.6476425397463771\n",
      "Standard Deviation of R^2: 0.09139913553069288\n"
     ]
    }
   ],
   "source": [
    "best_forest = grid_search.best_estimator_\n",
    "r2_scores_forest = cross_val_score(best_forest, X_train, y_train, cv=10, scoring='r2')\n",
    "print(\"10-Fold CV R^2 Scores:\", r2_scores_forest)\n",
    "print(\"Mean R^2:\", np.mean(r2_scores_forest))\n",
    "print(\"Standard Deviation of R^2:\", np.std(r2_scores_forest))"
   ]
  },
  {
   "cell_type": "markdown",
   "id": "ce463c24-1f6e-4907-b266-bf904b3d1ce9",
   "metadata": {
    "tags": []
   },
   "source": [
    "### Cross-Validation Performance (R² Scores)\n",
    "\n",
    "- These are the R² scores obtained in each of the 10 cross-validation folds.\n",
    "\n",
    "- R² indicates the proportion of variance in the target (rental price) that is explained by the model.\n",
    "\n",
    "**🔹 Mean R²:**  \n",
    "`0.6476`  \n",
    "→ On average, the model explains approximately **64.8%** of the variance in rental prices.\n",
    "\n",
    "**🔹 Standard Deviation:**  \n",
    "`0.0914`  \n",
    "→ Indicates **moderate variation** in model performance across different folds.\n",
    "\n",
    "**Interpretation:**  \n",
    "The model demonstrates **solid and consistent predictive power**, explaining a meaningful portion of the rental price variance across different subsets of the data. While performance varies slightly between folds, the relatively low standard deviation suggests **reasonable generalization** to unseen data.\n"
   ]
  },
  {
   "cell_type": "markdown",
   "id": "104059e5-79ec-4a78-9d07-d9752cfc74e8",
   "metadata": {},
   "source": [
    "### Step 6: Make predictions and evaluate performance on the test set\n",
    "\n",
    "Using the best `RandomForestRegressor` model from GridSearchCV, we predicted rental prices on the test set.\n",
    "\n",
    "We evaluated the model using:\n",
    "\n",
    "- **RMSE:** Measures the average prediction error. Lower is better.\n",
    "- **R²:** Indicates how much variance in rental prices is explained by the model. Higher is better."
   ]
  },
  {
   "cell_type": "code",
   "execution_count": 21,
   "id": "b1c2e509-1372-4858-94ed-9731464c1fad",
   "metadata": {},
   "outputs": [
    {
     "name": "stdout",
     "output_type": "stream",
     "text": [
      "Test Set RMSE: 1884.2946332117556\n",
      "Test Set R^2: 0.5803954956283577\n"
     ]
    }
   ],
   "source": [
    "y_pred_forest = best_forest.predict(X_test)\n",
    "print(\"Test Set RMSE:\", mean_squared_error(y_test, y_pred_forest, squared=False))\n",
    "print(\"Test Set R^2:\", r2_score(y_test, y_pred_forest))"
   ]
  },
  {
   "cell_type": "markdown",
   "id": "9ea3b9e0-bd5b-489a-890f-07e97ee82790",
   "metadata": {},
   "source": [
    "### Step 7: Identify the Top 5 Most Important Features\n",
    "\n",
    "We extracted the top 5 features with the highest importance scores from the `RandomForestRegressor` model.  \n",
    "These features have the greatest influence on predicting rental prices."
   ]
  },
  {
   "cell_type": "code",
   "execution_count": 22,
   "id": "c384391d-e900-4abd-8377-2efafae919bc",
   "metadata": {},
   "outputs": [
    {
     "name": "stdout",
     "output_type": "stream",
     "text": [
      "Top 5 Features:\n",
      " area                    0.503385\n",
      "neighborhood_encoded    0.234464\n",
      "building_tax            0.064524\n",
      "room_num                0.060114\n",
      "num_of_amenities        0.034553\n",
      "dtype: float64\n"
     ]
    }
   ],
   "source": [
    "importances = pd.Series(best_forest.feature_importances_, index=X.columns)\n",
    "top_forest = importances.sort_values(ascending=False).head(5)\n",
    "print(\"Top 5 Features:\\n\", top_forest)"
   ]
  },
  {
   "cell_type": "markdown",
   "id": "b4fcca21-21bd-4725-afed-f32ff926871d",
   "metadata": {},
   "source": [
    "# Top 5 Important Features - Comparison"
   ]
  },
  {
   "cell_type": "code",
   "execution_count": 23,
   "id": "490ed87b-60f0-4700-8818-74433b93092d",
   "metadata": {},
   "outputs": [
    {
     "data": {
      "image/png": "[encoded data removed]",
      "text/plain": [
       "<Figure size 1500x600 with 2 Axes>"
      ]
     },
     "metadata": {},
     "output_type": "display_data"
    }
   ],
   "source": [
    "fig, axes = plt.subplots(1, 2, figsize=(15, 6))\n",
    "\n",
    "# Elastic Net\n",
    "axes[0].barh(top_elastic.index, top_elastic.values, color='blue')\n",
    "axes[0].set_title('Top 5 Elastic Net Coefficients')\n",
    "axes[0].set_xlabel('Absolute Coefficient')\n",
    "axes[0].invert_yaxis()  # כדי שהחשוב ביותר למעלה\n",
    "\n",
    "# Decision Tree\n",
    "axes[1].barh(top_forest.index, top_forest.values, color='green')\n",
    "axes[1].set_title('Top 5 Random Forest Feature Importances')\n",
    "axes[1].set_xlabel('Feature Importance (normalized)')\n",
    "axes[1].invert_yaxis()\n",
    "\n",
    "plt.tight_layout()\n",
    "plt.show()"
   ]
  },
  {
   "cell_type": "markdown",
   "id": "eeea535b-a755-402b-8e08-c2d7893550bb",
   "metadata": {},
   "source": [
    "## Model Comparison: Elastic Net vs Random Forest\n",
    "\n",
    "### Model Performance\n",
    "We compared the two models based on their ability to predict rental prices.\n",
    "\n",
    "- **Elastic Net** is a linear model that captures direct (additive) relationships between features and the target variable.\n",
    "- **Random Forest** is a non-linear ensemble model that captures complex feature interactions and threshold effects.\n",
    "\n",
    "Each model offers different insights into what influences rental prices, with the Random Forest typically performing better on non-linear datasets.\n",
    "\n",
    "---\n",
    "\n",
    "### Important Features\n",
    "We compared the top 5 most influential features identified by each model:\n",
    "\n",
    "- **Elastic Net :**  \n",
    "  The top features were `neighborhood_encoded`, `area`, `property_type_מרוהט`, `is_central`, and `property_type_כללי`.  \n",
    "  This indicates that the linear model emphasized location, apartment size, centrality, and specific property type categories.\n",
    "\n",
    "- **Random Forest :**  \n",
    "  The most important features were `area`, `neighborhood_encoded`, `building_tax`, `room_num`, and `num_of_amenities`.  \n",
    "  The model focused on size, location, number of rooms, building-related costs, and amenities.\n",
    "\n",
    "---\n",
    "\n",
    "### Similarities\n",
    "Both models identified `area` and `neighborhood_encoded` as highly influential features.  \n",
    "This shows agreement that apartment size and location are key factors in predicting rental prices.\n",
    "\n",
    "---\n",
    "\n",
    "### Differences\n",
    "- **Elastic Net** gave more importance to categorical features like `property_type` and the `is_central` indicator.\n",
    "- **Random Forest** emphasized numerical and interaction-sensitive features like `building_tax` and `num_of_amenities`, which may reflect non-linear thresholds or combined effects.\n",
    "\n",
    "---\n",
    "\n",
    "### Interpretation\n",
    "The differences stem from the nature of the models:\n",
    "\n",
    "- **Elastic Net** captures linear relationships and assumes a uniform effect for each feature.  \n",
    "  It tends to emphasize variables with consistent, additive influence.\n",
    "  \n",
    "- **Random Forest** captures non-linear effects and interactions between features.  \n",
    "  It can detect patterns such as \"rents rise sharply when building tax exceeds a certain value\" or \"amenities matter only when combined with other features\".\n",
    "\n",
    "---\n",
    "\n",
    "### Conclusion\n",
    "Both models consistently highlighted `area` and `neighborhood_encoded` as primary predictors of rental prices.  \n",
    "While the Elastic Net focused on linear influences like centrality and property type, the Random Forest revealed additional non-linear effects through cost and amenity-related features — offering a richer perspective on rental price determinants."
   ]
  }
 ],
 "metadata": {
  "kernelspec": {
   "display_name": "Python 3 (ipykernel)",
   "language": "python",
   "name": "python3"
  },
  "language_info": {
   "codemirror_mode": {
    "name": "ipython",
    "version": 3
   },
   "file_extension": ".py",
   "mimetype": "text/x-python",
   "name": "python",
   "nbconvert_exporter": "python",
   "pygments_lexer": "ipython3",
   "version": "3.9.13"
  }
 },
 "nbformat": 4,
 "nbformat_minor": 5
}
